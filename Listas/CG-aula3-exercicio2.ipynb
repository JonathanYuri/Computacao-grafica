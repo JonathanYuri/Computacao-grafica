{
 "cells": [
  {
   "cell_type": "code",
   "execution_count": 16,
   "id": "395eb16d",
   "metadata": {},
   "outputs": [],
   "source": [
    "import numpy as np\n",
    "import matplotlib.pyplot as plt"
   ]
  },
  {
   "cell_type": "code",
   "execution_count": 17,
   "id": "133f0555",
   "metadata": {},
   "outputs": [
    {
     "name": "stdout",
     "output_type": "stream",
     "text": [
      "Digite o X do ponto inicial: 1\n",
      "Digite o Y do ponto inicial: 1\n",
      "Digite o X do ponto final: 8\n",
      "Digite o Y do ponto final: 5\n"
     ]
    }
   ],
   "source": [
    "xInicial = int(input('Digite o X do ponto inicial: '))\n",
    "yInicial = int(input('Digite o Y do ponto inicial: '))\n",
    "\n",
    "xFinal = int(input('Digite o X do ponto final: '))\n",
    "yFinal = int(input('Digite o Y do ponto final: '))"
   ]
  },
  {
   "cell_type": "code",
   "execution_count": 18,
   "id": "2e179351",
   "metadata": {},
   "outputs": [],
   "source": [
    "def Bresenham(xI, yI, xF, yF):\n",
    "    dx = xF - xI\n",
    "    dy = yF - yI\n",
    "    \n",
    "    dAtual = 2 * dy - dx\n",
    "    dE = 2 * dy\n",
    "    dNE = 2 * (dy - dx)\n",
    "    \n",
    "    x = []\n",
    "    y = []\n",
    "    \n",
    "    xA = xI\n",
    "    yA = yI\n",
    "    \n",
    "    while ([xA, yA] != [xF, yF]):\n",
    "        if dAtual < 0:\n",
    "            dAtual += dE\n",
    "        else:\n",
    "            # dAtual >= 0\n",
    "            dAtual += dNE\n",
    "            yA += 1\n",
    "        xA += 1\n",
    "        x.append(xA)\n",
    "        y.append(yA)\n",
    "\n",
    "    return x, y;"
   ]
  },
  {
   "cell_type": "code",
   "execution_count": 19,
   "id": "d30b7541",
   "metadata": {},
   "outputs": [],
   "source": [
    "# vou tornar o ponto inicial como (0,0) do meu sistema\n",
    "\n",
    "novoX = xFinal - xInicial\n",
    "novoY = yFinal - yInicial\n",
    "\n",
    "x, y = Bresenham(0, 0, abs(novoX), abs(novoY))\n",
    "\n",
    "for i in range(0, len(x)):\n",
    "    if novoX < 0:\n",
    "        x[i] = -x[i]\n",
    "    x[i] += xInicial\n",
    "    \n",
    "for i in range(0, len(y)):\n",
    "    if novoY < 0:\n",
    "        y[i] = -y[i]\n",
    "    y[i] += yInicial\n",
    "    \n",
    "x.insert(0, xInicial)\n",
    "y.insert(0, yInicial)"
   ]
  },
  {
   "cell_type": "code",
   "execution_count": 20,
   "id": "cf2f64ce",
   "metadata": {},
   "outputs": [
    {
     "data": {
      "image/png": "[encoded data removed]",
      "text/plain": [
       "<Figure size 432x288 with 1 Axes>"
      ]
     },
     "metadata": {
      "needs_background": "light"
     },
     "output_type": "display_data"
    }
   ],
   "source": [
    "fig = plt.figure()\n",
    "ax = fig.add_subplot(1, 1, 1)\n",
    "\n",
    "ax.scatter(x, y, color='red')\n",
    "ax.plot([xInicial, xFinal], [yInicial, yFinal])\n",
    "\n",
    "# para montar o grid corretamente\n",
    "\n",
    "stepX = 1\n",
    "if xInicial > xFinal:\n",
    "    stepX = -1\n",
    "\n",
    "stepY = 1\n",
    "if yInicial > yFinal:\n",
    "    stepY = -1\n",
    "\n",
    "if yFinal < 0:\n",
    "    yFinal -= 1\n",
    "else:\n",
    "    yFinal += 1\n",
    "    \n",
    "if xFinal < 0:\n",
    "    xFinal -= 1  \n",
    "else:\n",
    "    xFinal += 1\n",
    "\n",
    "ticks_x = np.arange(xInicial, xFinal, stepX)\n",
    "ticks_y = np.arange(yInicial, yFinal, stepY)\n",
    "\n",
    "ax.set_xticks(ticks_x)\n",
    "ax.set_yticks(ticks_y)\n",
    "\n",
    "ax.grid(which='both')\n",
    "\n",
    "plt.show()"
   ]
  }
 ],
 "metadata": {
  "kernelspec": {
   "display_name": "Python 3 (ipykernel)",
   "language": "python",
   "name": "python3"
  },
  "language_info": {
   "codemirror_mode": {
    "name": "ipython",
    "version": 3
   },
   "file_extension": ".py",
   "mimetype": "text/x-python",
   "name": "python",
   "nbconvert_exporter": "python",
   "pygments_lexer": "ipython3",
   "version": "3.9.12"
  }
 },
 "nbformat": 4,
 "nbformat_minor": 5
}
